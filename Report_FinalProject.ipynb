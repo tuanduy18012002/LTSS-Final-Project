{
  "cells": [
    {
      "cell_type": "markdown",
      "metadata": {
        "id": "PLHx0fXs4zp1"
      },
      "source": [
        "# **CSC14120 - PARALLEL PROGRAMMING REPORT**\n",
        "\n",
        "\n",
        "\n"
      ]
    },
    {
      "cell_type": "markdown",
      "metadata": {
        "id": "fXEneD7m_XrL"
      },
      "source": [
        "## 1. Thông tin Sinh viên\n",
        "|MSSV  | Họ và tên | Email |\n",
        "|:---------:|:--------------------|:-----------------------------|\n",
        "|20127206   |Vũ Đình Duy Khánh    |vddkhanh20@clc.fitus.edu.vn   |\n",
        "|20127478   |Huỳnh Tuấn Duy       |htduy20@clc.fitus.edu.vn      |"
      ]
    },
    {
      "cell_type": "markdown",
      "metadata": {
        "id": "0JDBthGECFML"
      },
      "source": [
        "## 2. Giới thiệu\n",
        "Ứng dụng của chúng tôi tập trung vào tối ưu hóa việc thực hiện quá trình truyền tiến của một lớp convolutional bằng CUDA. Được phát triển trên cơ sở Mini-DNN và sử dụng tập dữ liệu Fashion MNIST, đồ án này nhằm cải thiện hiệu suất inference cho các lớp Convolutional 1 và Convolutional 3 trong mô hình LeNet-5."
      ]
    },
    {
      "cell_type": "markdown",
      "metadata": {
        "id": "iLgzut7OFNpt"
      },
      "source": [
        "## 3. Động lực thực hiện\n",
        "Xây dựng một lớp convolutional hiệu suất cao bằng CUDA trong đồ án này không chỉ nâng cao kỹ năng lập trình mà còn đưa ra giải pháp ứng dụng trong thế giới thực, tăng cường khả năng xử lý ảnh và thông tin, làm nền tảng cho nhiều ứng dụng trong lĩnh vực trí tuệ nhân tạo"
      ]
    },
    {
      "cell_type": "markdown",
      "metadata": {
        "id": "91ttOeJls7Vf"
      },
      "source": [
        "## 4. Liên kết\n",
        "- Video Demo : https://www.youtube.com/watch?v=ZtMTfWKptTM\n",
        "- Team plan : [Team plan và work distribution](PlanAndWorkDistribution.ipynb)"
      ]
    },
    {
      "cell_type": "markdown",
      "metadata": {
        "id": "1HGtQ_6ABlU0"
      },
      "source": [
        "## 5. Tổng quan đóng góp\n",
        "|MSSV  | Họ và tên | Tỷ lệ đóng góp |\n",
        "|:---------:|:--------------------|:-----------------------------:|\n",
        "|20127206   |Vũ Đình Duy Khánh    | 50%  |\n",
        "|20127478   |Huỳnh Tuấn Duy       |50%      |"
      ]
    },
    {
      "cell_type": "markdown",
      "metadata": {
        "id": "aXxk69SU_X1s"
      },
      "source": [
        "## 6. Cài đặt trên Google Colab"
      ]
    },
    {
      "cell_type": "code",
      "execution_count": null,
      "metadata": {
        "colab": {
          "base_uri": "https://localhost:8080/"
        },
        "id": "yrI2fgEIGuR8",
        "outputId": "0cf74898-b1e1-4483-a2e4-207c28caf068"
      },
      "outputs": [],
      "source": [
        "!git clone https://github.com/tuanduy18012002/LeNet-5-using-Cuda-C-Programming\n",
        "%cd /content/LeNet-5-using-Cuda-C-Programming\n",
        "!mkdir build\n",
        "%cd build"
      ]
    },
    {
      "cell_type": "code",
      "execution_count": null,
      "metadata": {
        "colab": {
          "base_uri": "https://localhost:8080/"
        },
        "id": "IcAx-InUwwUq",
        "outputId": "c1516d95-06af-45b5-fa57-4fe9beb9036a"
      },
      "outputs": [],
      "source": [
        "!cmake ../CMakeLists.txt"
      ]
    },
    {
      "cell_type": "code",
      "execution_count": null,
      "metadata": {
        "colab": {
          "base_uri": "https://localhost:8080/"
        },
        "id": "Y2_adC_bwaUE",
        "outputId": "e8d3964a-bbf4-4378-da07-3796d905b42c"
      },
      "outputs": [],
      "source": [
        "!make"
      ]
    },
    {
      "cell_type": "markdown",
      "metadata": {
        "id": "DC4wo-V5Efqs"
      },
      "source": [
        "## 7. Thực thi tuần tự (CPU)"
      ]
    },
    {
      "cell_type": "code",
      "execution_count": null,
      "metadata": {
        "colab": {
          "base_uri": "https://localhost:8080/"
        },
        "id": "9WfCMSmPKPHp",
        "outputId": "cabca4f6-c23f-414c-f7cf-0e5d095cacb4"
      },
      "outputs": [
        {
          "name": "stdout",
          "output_type": "stream",
          "text": [
            "<-------------HOST------------->\n",
            "mnist train number: 60000\n",
            "mnist test number: 10000\n",
            "<------------------------------>\n",
            "CPU - Forward Convolution - Layer 1 - Time: 36127.070312 ms\n",
            "CPU - Forward Convolution - Layer 3 - Time: 30667.855469 ms\n",
            "test accuracy: 0.8779\n",
            "<------------------------------>\n"
          ]
        }
      ],
      "source": [
        "!./cpu_main"
      ]
    },
    {
      "cell_type": "markdown",
      "metadata": {
        "id": "QGvAvDTiL7Ur"
      },
      "source": [
        "### Chi tiết\n",
        "* Flow thiết kế:\n",
        "  - Khởi tạo biến và thời gian, resize ma trận (top), và chuẩn bị một vector (data_cols) để lưu trữ ma trận dạng cột từ quá trình im2col.\n",
        "  - Dùng vòng lặp để xử lý từng mẫu đầu vào. Với mỗi mẫu, áp dụng im2col để tạo ma trận dạng cột, sau đó thực hiện convolution bằng cách nhân với trọng số và cộng thêm bias.\n",
        "  - Mỗi mẫu đầu vào được chuyển qua hàm im2col, tạo ra ma trận dạng cột và lưu vào (data_cols).\n",
        "  -  Ma trận kết quả (result) được tính thông qua phép nhân ma trận dạng cột với ma trận trọng số (weight), sau đó cộng thêm bias.\n",
        "* Tốc độ thực thi\n",
        "  - Thời gian chạy của Convolution Kernel - Layer 1 khoảng 36s.\n",
        "  - Thời gian chạy của Convolution Kernel - Layer 3 khoảng 30s.\n",
        "* Độ chính xác: 87.8%"
      ]
    },
    {
      "cell_type": "markdown",
      "metadata": {
        "id": "hQXhQouNKVrf"
      },
      "source": [
        "## 8. Thực thi song song hoá (GPU)"
      ]
    },
    {
      "cell_type": "code",
      "execution_count": 6,
      "metadata": {
        "colab": {
          "base_uri": "https://localhost:8080/"
        },
        "id": "PiPU4lcqxSjE",
        "outputId": "dccfc143-861d-497b-c7cf-dba583dc8870"
      },
      "outputs": [
        {
          "name": "stdout",
          "output_type": "stream",
          "text": [
            "<------------DEVICE------------>\n",
            "mnist train number: 60000\n",
            "mnist test number: 10000\n",
            "<---------DEVICE-INFO---------->\n",
            "**********GPU info**********\n",
            "Name: Tesla T4\n",
            "Compute capability: 7.5\n",
            "Num SMs: 40\n",
            "Max num threads per SM: 1024\n",
            "Max num warps per SM: 32\n",
            "GMEM: 15835660288 byte\n",
            "SMEM per SM: 65536 byte\n",
            "SMEM per block: 49152 byte\n",
            "****************************\n",
            "<----------VERSION--1---------->\n",
            "GPU - Forward Convolution - Layer 1 - Time: 120.532867 ms\n",
            "GPU - Forward Convolution - Layer 3 - Time: 64.140129 ms\n",
            "test accuracy version 1: 0.8779\n",
            "<----------VERSION--2---------->\n",
            "GPU - Forward Convolution - Layer 1 - Time: 140.262756 ms\n",
            "GPU - Forward Convolution - Layer 3 - Time: 136.350586 ms\n",
            "test accuracy version 2: 0.8775\n",
            "<----------VERSION--3---------->\n",
            "GPU - Forward Convolution - Layer 1 - Time: 128.134201 ms\n",
            "GPU - Forward Convolution - Layer 3 - Time: 55.752159 ms\n",
            "test accuracy version 3: 0.8775\n",
            "<------------------------------>\n"
          ]
        }
      ],
      "source": [
        "!./gpu_main"
      ]
    },
    {
      "cell_type": "markdown",
      "metadata": {
        "id": "c-XFSASpK149"
      },
      "source": [
        "### Chi tiết\n",
        "#### a. Version 1\n",
        "* Phân tích:\n",
        "  - Trong Conv.forward trong CPU có một vòng for từ 0 --> n-sample. Vì vậy, dùng song song để tối ưu thời gian chạy vòng for này.\n",
        "* Flow thiết kế:\n",
        "  - Sử dụng một phương pháp đơn giản với các vòng lặp lồng nhau để duyệt qua các kênh đầu vào, hàng kernel và cột kernel thực hiện phép tích chập trên GPU cho một đầu vào, trọng số và tạo ra đầu ra một cách song song.\n",
        "  - Phương pháp tích chập: Sử dụng vòng lặp lồng nhau để duyệt qua các kênh đầu vào, hàng kernel và cột kernel.\n",
        "  - Sử dụng nested loops để duyệt qua từng phần tử trong tensor đầu vào và tensor trọng số, thực hiện phép nhân và cộng để tính tổng trọng số của đầu vào với kernel tại từng vị trí.\n",
        "  - Kiểm tra giới hạn trước khi ghi vào đầu ra để đảm bảo tính hợp lý và tránh ghi vào kích thước bộ nhớ không hợp lý.\n",
        "  - Phép cộng atomic: Sử dụng atomicAdd để đảm bảo tính đồng nhất khi cập nhật giá trị đầu ra.\n",
        "* Đánh giá\n",
        "  - Tốc độ thực thi:\n",
        "    + Convolution kernel 1: khoảng 120ms\n",
        "    + Convolution kernel 2: khoảng 64ms\n",
        "    + Giảm khoảng 475 lần thời gian chạy trên CPU\n",
        "  - Độ chính xác: 87.8%\n",
        "\n",
        "#### b. Version 2\n",
        "* Phân tích\n",
        "  - Dùng shared memory, fp16 và nStream để tối ưu hoá cho version 1.\n",
        "* Flow Thiết kế\n",
        "  - Sử dụng shared memory để lưu trữ trọng số\n",
        "  - Sử dụng FP16 (dấu chấm động bán chính xác half và half2) để giảm yêu cầu bộ nhớ và tăng tốc độ tính toán.\n",
        "  - Hỗ trợ nhiều streams để xử lý các batch không đồng bộ, giúp tận dụng tối đa khả năng chịu tải của GPU.\n",
        "* Đánh giá\n",
        "  - Tốc độ thực thi:\n",
        "    + Convolution kernel - Layer 1: khoảng 140ms\n",
        "    + Convolution kernel - Layer 3: khoảng 136ms\n",
        "    + Giảm khoảng 250 lần thời gian chạy trên CPU\n",
        "  - Độ chính xác: 87.8%\n",
        "\n",
        "#### c. Version 3\n",
        "* Phân tích\n",
        "  - Dùng thêm constant memory, kiến trúc tiling chia nhỏ phép tính cho version 2.\n",
        "* Thiết kế\n",
        "  - Phép tích chập được thực hiện theo cách chia thành từng ô, với mỗi khối xử lý một ô của bản đồ đặc trưng đầu ra.\n",
        "  - Sử dụng shared memory để lưu trữ trọng số\n",
        "  - Sử dụng constant memory để lưu trữ trọng số, giảm độ trễ khi truy cập dữ liệu trọng số.\n",
        "  - Sử dụng FP16 (dấu chấm động bán chính xác half và half2) để giảm yêu cầu bộ nhớ và tăng tốc độ tính toán.\n",
        "  - Sử dụng kiến trúc tiling để chia nhỏ phép tính toán thành các phần nhỏ hơn, giúp tối ưu hóa hiệu suất trong quá trình xử lý.\n",
        "* Đánh giá\n",
        "  - Tốc độ thực thi:\n",
        "    + Convolution kernel - Layer 1: khoảng 128ms\n",
        "    + Convolution kernel - Layer 3 : khoảng 55ms\n",
        "    + Giảm khoảng 500 lần thời gian chạy trên CPU\n",
        "  - Độ chính xác: 87.8%"
      ]
    },
    {
      "cell_type": "markdown",
      "metadata": {
        "id": "wChIPGsGsAb1"
      },
      "source": [
        "## 9. Tự đánh giá đồ án (9.5/10)\n",
        "#### a. Đã làm được:\n",
        "* Xây dựng framework hoàn chỉnh song song hoá và tích hợp.\n",
        "* Xây dựng tuần tự (CPU).\n",
        "* Xây dựng song song hoá cơn bản.\n",
        "* Tối ưu hoá cho phiên bản song song hoá cơ bản với nhiều version.\n",
        "\n",
        "#### b. Chưa làm được:\n",
        "* Quét các tham số khác nhau để tìm giá trị tốt nhất (block sizes, amount of\n",
        "thread coarsening).\n",
        "\n",
        "#### c. Tiếp theo:\n",
        "* Quét các tham số khác nhau để tìm giá trị tốt nhất.\n",
        "* Tối ưu hoá thêm nếu có thể.\n",
        "\n",
        "#### d. Khó khăn:\n",
        "* Quản lý bộ nhớ và hiệu suất ứng dụng.\n",
        "* Debugging và Profiling.\n",
        "\n",
        "#### e. Giải quyết:\n",
        "* Quản lý bộ nhớ và hiệu suất ứng dụng: chia nhỏ các tác vụ lớn thành các tác vụ nhỏ hơn.\n",
        "* Debugging và Profiling: Đặt Debug Log và sử dụng các công cụ như NVIDA Nsight..."
      ]
    }
  ],
  "metadata": {
    "accelerator": "GPU",
    "colab": {
      "gpuType": "T4",
      "provenance": []
    },
    "kernelspec": {
      "display_name": "Python 3.10.5 64-bit",
      "language": "python",
      "name": "python3"
    },
    "language_info": {
      "name": "python",
      "version": "3.10.5"
    },
    "vscode": {
      "interpreter": {
        "hash": "9d0f38c43e833695b71bf06e08ff2bbe0083618b070f508638a70326306b0377"
      }
    }
  },
  "nbformat": 4,
  "nbformat_minor": 0
}
